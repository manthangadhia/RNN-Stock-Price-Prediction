{
  "nbformat": 4,
  "nbformat_minor": 0,
  "metadata": {
    "colab": {
      "name": "JUBLFOOD Closing Prediction RNN.ipynb",
      "provenance": [],
      "collapsed_sections": [],
      "authorship_tag": "ABX9TyOx2pXHUd6wjKOoRgMElOFY",
      "include_colab_link": true
    },
    "kernelspec": {
      "name": "python3",
      "display_name": "Python 3"
    },
    "language_info": {
      "name": "python"
    },
    "accelerator": "GPU"
  },
  "cells": [
    {
      "cell_type": "markdown",
      "metadata": {
        "id": "view-in-github",
        "colab_type": "text"
      },
      "source": [
        "<a href=\"https://colab.research.google.com/github/manthangadhia/RNN-Stock-Price-Prediction/blob/main/JUBLFOOD_Closing_Prediction_RNN.ipynb\" target=\"_parent\"><img src=\"https://colab.research.google.com/assets/colab-badge.svg\" alt=\"Open In Colab\"/></a>"
      ]
    },
    {
      "cell_type": "markdown",
      "metadata": {
        "id": "T9D5niuRnuKM"
      },
      "source": [
        "## Imports\n",
        "#### All relevant packages and modules (including tf)"
      ]
    },
    {
      "cell_type": "code",
      "metadata": {
        "id": "2w8hydMom6zQ"
      },
      "source": [
        "import matplotlib.pyplot as plt\n",
        "import numpy as np\n",
        "import pandas as pd\n",
        "import scipy as sp\n",
        "import sklearn as skl"
      ],
      "execution_count": null,
      "outputs": []
    },
    {
      "cell_type": "code",
      "metadata": {
        "id": "YzyJBLjealuC"
      },
      "source": [
        "import tensorflow as tf\n",
        "from tensorflow.keras.models import Sequential\n",
        "from tensorflow.keras.layers import Dense\n",
        "from tensorflow.keras.layers import LSTM\n",
        "from tensorflow.keras.layers import Dropout"
      ],
      "execution_count": null,
      "outputs": []
    },
    {
      "cell_type": "markdown",
      "metadata": {
        "id": "qBfiDqoshC3D"
      },
      "source": [
        "---\n",
        "### Load GPU"
      ]
    },
    {
      "cell_type": "code",
      "metadata": {
        "colab": {
          "base_uri": "https://localhost:8080/"
        },
        "id": "BaB3nLZlhFfB",
        "outputId": "1732e711-eb04-478f-eba2-47bb8aa63178"
      },
      "source": [
        "device_name = tf.test.gpu_device_name()\n",
        "if device_name != '/device:GPU:0':\n",
        "  raise SystemError('GPU device not found')\n",
        "print('Found GPU at: {}'.format(device_name))"
      ],
      "execution_count": null,
      "outputs": [
        {
          "output_type": "stream",
          "text": [
            "Found GPU at: /device:GPU:0\n"
          ],
          "name": "stdout"
        }
      ]
    },
    {
      "cell_type": "markdown",
      "metadata": {
        "id": "lP9FCE8An5HB"
      },
      "source": [
        "## Load, Inspect, and Label Datasets"
      ]
    },
    {
      "cell_type": "code",
      "metadata": {
        "colab": {
          "resources": {
            "http://localhost:8080/nbextensions/google.colab/files.js": {
              "data": "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",
              "ok": true,
              "headers": [
                [
                  "content-type",
                  "application/javascript"
                ]
              ],
              "status": 200,
              "status_text": ""
            }
          },
          "base_uri": "https://localhost:8080/",
          "height": 106
        },
        "id": "IjhOIpf6n8hm",
        "outputId": "d15359c4-689a-42ea-cc8f-4e45bfe1d881"
      },
      "source": [
        "from google.colab import files\n",
        "uploaded = files.upload()"
      ],
      "execution_count": null,
      "outputs": [
        {
          "output_type": "display_data",
          "data": {
            "text/html": [
              "\n",
              "     <input type=\"file\" id=\"files-62e8a844-b22f-449f-802d-07ca574f4ea6\" name=\"files[]\" multiple disabled\n",
              "        style=\"border:none\" />\n",
              "     <output id=\"result-62e8a844-b22f-449f-802d-07ca574f4ea6\">\n",
              "      Upload widget is only available when the cell has been executed in the\n",
              "      current browser session. Please rerun this cell to enable.\n",
              "      </output>\n",
              "      <script src=\"/nbextensions/google.colab/files.js\"></script> "
            ],
            "text/plain": [
              "<IPython.core.display.HTML object>"
            ]
          },
          "metadata": {
            "tags": []
          }
        },
        {
          "output_type": "stream",
          "text": [
            "Saving JUBLFOOD_test.csv to JUBLFOOD_test.csv\n",
            "Saving JUBLFOOD_train.csv to JUBLFOOD_train.csv\n"
          ],
          "name": "stdout"
        }
      ]
    },
    {
      "cell_type": "code",
      "metadata": {
        "id": "1sPtFo_kvUz9"
      },
      "source": [
        "test_df = pd.read_csv('JUBLFOOD_test.csv')\n",
        "train_df = pd.read_csv('JUBLFOOD_train.csv')\n",
        "\n",
        "attributes =['Open', 'Close', 'Volume']"
      ],
      "execution_count": null,
      "outputs": []
    },
    {
      "cell_type": "markdown",
      "metadata": {
        "id": "3bTfz8bSvNYm"
      },
      "source": [
        "---\n",
        "### Preprocess and scale"
      ]
    },
    {
      "cell_type": "markdown",
      "metadata": {
        "id": "sMHHg7LAv8fV"
      },
      "source": [
        "For the first try, we will look at only the closing prices. The filtered datasets will then have to be scaled (I will *normalise* using `sklearn`'s `MinMaxScaler`). \n",
        "\n",
        "Procedure will be applied to training **and** testing sets, and original copies will be maintained for later access."
      ]
    },
    {
      "cell_type": "code",
      "metadata": {
        "colab": {
          "base_uri": "https://localhost:8080/",
          "height": 284
        },
        "id": "4Lqd82D7v2eI",
        "outputId": "1f5baab6-50e7-4f2d-a503-c48504f4a9ed"
      },
      "source": [
        "train_df.describe()"
      ],
      "execution_count": null,
      "outputs": [
        {
          "output_type": "execute_result",
          "data": {
            "text/html": [
              "<div>\n",
              "<style scoped>\n",
              "    .dataframe tbody tr th:only-of-type {\n",
              "        vertical-align: middle;\n",
              "    }\n",
              "\n",
              "    .dataframe tbody tr th {\n",
              "        vertical-align: top;\n",
              "    }\n",
              "\n",
              "    .dataframe thead th {\n",
              "        text-align: right;\n",
              "    }\n",
              "</style>\n",
              "<table border=\"1\" class=\"dataframe\">\n",
              "  <thead>\n",
              "    <tr style=\"text-align: right;\">\n",
              "      <th></th>\n",
              "      <th>Open</th>\n",
              "      <th>High</th>\n",
              "      <th>Low</th>\n",
              "      <th>Close</th>\n",
              "      <th>Adj Close</th>\n",
              "      <th>Volume</th>\n",
              "    </tr>\n",
              "  </thead>\n",
              "  <tbody>\n",
              "    <tr>\n",
              "      <th>count</th>\n",
              "      <td>2713.000000</td>\n",
              "      <td>2713.000000</td>\n",
              "      <td>2713.000000</td>\n",
              "      <td>2713.000000</td>\n",
              "      <td>2713.000000</td>\n",
              "      <td>2.713000e+03</td>\n",
              "    </tr>\n",
              "    <tr>\n",
              "      <th>mean</th>\n",
              "      <td>839.292747</td>\n",
              "      <td>855.152230</td>\n",
              "      <td>824.446591</td>\n",
              "      <td>839.495522</td>\n",
              "      <td>832.352269</td>\n",
              "      <td>1.419938e+06</td>\n",
              "    </tr>\n",
              "    <tr>\n",
              "      <th>std</th>\n",
              "      <td>555.563775</td>\n",
              "      <td>565.405488</td>\n",
              "      <td>546.191164</td>\n",
              "      <td>555.635798</td>\n",
              "      <td>556.342411</td>\n",
              "      <td>1.894752e+06</td>\n",
              "    </tr>\n",
              "    <tr>\n",
              "      <th>min</th>\n",
              "      <td>115.474998</td>\n",
              "      <td>117.199997</td>\n",
              "      <td>114.525002</td>\n",
              "      <td>115.199997</td>\n",
              "      <td>113.510651</td>\n",
              "      <td>0.000000e+00</td>\n",
              "    </tr>\n",
              "    <tr>\n",
              "      <th>25%</th>\n",
              "      <td>509.000000</td>\n",
              "      <td>517.950012</td>\n",
              "      <td>498.575012</td>\n",
              "      <td>506.524994</td>\n",
              "      <td>499.872772</td>\n",
              "      <td>5.343140e+05</td>\n",
              "    </tr>\n",
              "    <tr>\n",
              "      <th>50%</th>\n",
              "      <td>631.500000</td>\n",
              "      <td>642.424988</td>\n",
              "      <td>620.099976</td>\n",
              "      <td>629.825012</td>\n",
              "      <td>620.638245</td>\n",
              "      <td>9.244020e+05</td>\n",
              "    </tr>\n",
              "    <tr>\n",
              "      <th>75%</th>\n",
              "      <td>1175.000000</td>\n",
              "      <td>1198.000000</td>\n",
              "      <td>1155.375000</td>\n",
              "      <td>1179.650024</td>\n",
              "      <td>1170.769531</td>\n",
              "      <td>1.620576e+06</td>\n",
              "    </tr>\n",
              "    <tr>\n",
              "      <th>max</th>\n",
              "      <td>3190.000000</td>\n",
              "      <td>3215.500000</td>\n",
              "      <td>3050.100098</td>\n",
              "      <td>3203.750000</td>\n",
              "      <td>3203.750000</td>\n",
              "      <td>3.230781e+07</td>\n",
              "    </tr>\n",
              "  </tbody>\n",
              "</table>\n",
              "</div>"
            ],
            "text/plain": [
              "              Open         High  ...    Adj Close        Volume\n",
              "count  2713.000000  2713.000000  ...  2713.000000  2.713000e+03\n",
              "mean    839.292747   855.152230  ...   832.352269  1.419938e+06\n",
              "std     555.563775   565.405488  ...   556.342411  1.894752e+06\n",
              "min     115.474998   117.199997  ...   113.510651  0.000000e+00\n",
              "25%     509.000000   517.950012  ...   499.872772  5.343140e+05\n",
              "50%     631.500000   642.424988  ...   620.638245  9.244020e+05\n",
              "75%    1175.000000  1198.000000  ...  1170.769531  1.620576e+06\n",
              "max    3190.000000  3215.500000  ...  3203.750000  3.230781e+07\n",
              "\n",
              "[8 rows x 6 columns]"
            ]
          },
          "metadata": {
            "tags": []
          },
          "execution_count": 6
        }
      ]
    },
    {
      "cell_type": "code",
      "metadata": {
        "colab": {
          "base_uri": "https://localhost:8080/",
          "height": 195
        },
        "id": "ukLWt5Wz0GqE",
        "outputId": "026a752f-235f-44af-b5da-70c2610205ef"
      },
      "source": [
        "unscaled_train = train_df.loc[:, attributes]\n",
        "unscaled_train.head()"
      ],
      "execution_count": null,
      "outputs": [
        {
          "output_type": "execute_result",
          "data": {
            "text/html": [
              "<div>\n",
              "<style scoped>\n",
              "    .dataframe tbody tr th:only-of-type {\n",
              "        vertical-align: middle;\n",
              "    }\n",
              "\n",
              "    .dataframe tbody tr th {\n",
              "        vertical-align: top;\n",
              "    }\n",
              "\n",
              "    .dataframe thead th {\n",
              "        text-align: right;\n",
              "    }\n",
              "</style>\n",
              "<table border=\"1\" class=\"dataframe\">\n",
              "  <thead>\n",
              "    <tr style=\"text-align: right;\">\n",
              "      <th></th>\n",
              "      <th>Open</th>\n",
              "      <th>Close</th>\n",
              "      <th>Volume</th>\n",
              "    </tr>\n",
              "  </thead>\n",
              "  <tbody>\n",
              "    <tr>\n",
              "      <th>0</th>\n",
              "      <td>115.474998</td>\n",
              "      <td>116.699997</td>\n",
              "      <td>526144.0</td>\n",
              "    </tr>\n",
              "    <tr>\n",
              "      <th>1</th>\n",
              "      <td>116.699997</td>\n",
              "      <td>115.199997</td>\n",
              "      <td>687752.0</td>\n",
              "    </tr>\n",
              "    <tr>\n",
              "      <th>2</th>\n",
              "      <td>115.500000</td>\n",
              "      <td>118.275002</td>\n",
              "      <td>1013236.0</td>\n",
              "    </tr>\n",
              "    <tr>\n",
              "      <th>3</th>\n",
              "      <td>118.949997</td>\n",
              "      <td>129.125000</td>\n",
              "      <td>11956554.0</td>\n",
              "    </tr>\n",
              "    <tr>\n",
              "      <th>4</th>\n",
              "      <td>130.000000</td>\n",
              "      <td>138.274994</td>\n",
              "      <td>7205020.0</td>\n",
              "    </tr>\n",
              "  </tbody>\n",
              "</table>\n",
              "</div>"
            ],
            "text/plain": [
              "         Open       Close      Volume\n",
              "0  115.474998  116.699997    526144.0\n",
              "1  116.699997  115.199997    687752.0\n",
              "2  115.500000  118.275002   1013236.0\n",
              "3  118.949997  129.125000  11956554.0\n",
              "4  130.000000  138.274994   7205020.0"
            ]
          },
          "metadata": {
            "tags": []
          },
          "execution_count": 7
        }
      ]
    },
    {
      "cell_type": "code",
      "metadata": {
        "colab": {
          "base_uri": "https://localhost:8080/"
        },
        "id": "nYpglcKmBHwX",
        "outputId": "b9c0a1c3-1dd5-4d4f-ba9a-768c31b7cc42"
      },
      "source": [
        "unscaled_train = unscaled_train.values\n",
        "type(unscaled_train), unscaled_train.shape"
      ],
      "execution_count": null,
      "outputs": [
        {
          "output_type": "execute_result",
          "data": {
            "text/plain": [
              "(numpy.ndarray, (2721, 3))"
            ]
          },
          "metadata": {
            "tags": []
          },
          "execution_count": 8
        }
      ]
    },
    {
      "cell_type": "markdown",
      "metadata": {
        "id": "cdIgDfeEadbj"
      },
      "source": [
        "---\n",
        "### Delete NaNs"
      ]
    },
    {
      "cell_type": "code",
      "metadata": {
        "colab": {
          "base_uri": "https://localhost:8080/"
        },
        "id": "SF_maArToA-4",
        "outputId": "c814dd47-49cb-41cd-c205-e2d52d1a575e"
      },
      "source": [
        "# If NaNs present, delete entries.\n",
        "if np.isnan(unscaled_train).any():\n",
        "\n",
        "  # Get indices based on only first column of unscaled_train \n",
        "  # to make np.argwhere work better\n",
        "  col = unscaled_train[:, 0]\n",
        "  \n",
        "  # Acquire list (of list) of positions with NaNs\n",
        "  nan_pos = np.argwhere(np.isnan(col))\n",
        "\n",
        "  unscaled_train = np.delete(unscaled_train, nan_pos.flatten(), axis=0)\n",
        "\n",
        "print('NaN in train: {}'.format(np.isnan(unscaled_train).any()))"
      ],
      "execution_count": null,
      "outputs": [
        {
          "output_type": "stream",
          "text": [
            "NaN in train: False\n"
          ],
          "name": "stdout"
        }
      ]
    },
    {
      "cell_type": "markdown",
      "metadata": {
        "id": "I_yqix6D43xu"
      },
      "source": [
        "---\n",
        "Normalise training data.\n",
        "\n",
        "`MinMaxScaler` scales the data to be between $0$ and $1$ by default."
      ]
    },
    {
      "cell_type": "code",
      "metadata": {
        "id": "fjuronjr46ku"
      },
      "source": [
        "from sklearn.preprocessing import MinMaxScaler\n",
        "\n",
        "scaler = MinMaxScaler()\n",
        "scaled_train = scaler.fit_transform(unscaled_train.reshape(-1, len(attributes)))"
      ],
      "execution_count": null,
      "outputs": []
    },
    {
      "cell_type": "markdown",
      "metadata": {
        "id": "kUAv0-2_3MEx"
      },
      "source": [
        "---\n",
        "### Define Timesteps and Label training data"
      ]
    },
    {
      "cell_type": "code",
      "metadata": {
        "colab": {
          "base_uri": "https://localhost:8080/"
        },
        "id": "LqgwCX2v3fxV",
        "outputId": "f0cdc180-226c-4e21-f78d-1cd314331f3f"
      },
      "source": [
        "# The number of timesteps is the number of previous days taken into account to \n",
        "# make a prediction for the next day\n",
        "TIMESTEP = 60\n",
        "\n",
        "# x_train is a 2D array with len(data)-60 rows and 60 columns\n",
        "x_train = np.zeros(shape=(len(scaled_train) - TIMESTEP, \n",
        "                          len(attributes), \n",
        "                          TIMESTEP))\n",
        "\n",
        "# y_train is a 1D array with len(data)-60 rows\n",
        "y_train = np.zeros(shape=(len(scaled_train) - TIMESTEP,\n",
        "                          len(attributes)))\n",
        "\n",
        "for i, prev_stock in enumerate(range(TIMESTEP, len(scaled_train))):\n",
        "  x_train[i] = scaled_train[prev_stock-TIMESTEP:prev_stock, 0]\n",
        "  y_train[i] = scaled_train[prev_stock]\n",
        "\n",
        "# Attributes are stored as 'Open', 'Close', 'Volume'. We need second attr.\n",
        "y_train = y_train[:, 1]\n",
        "\n",
        "x_train.shape, y_train.shape"
      ],
      "execution_count": null,
      "outputs": [
        {
          "output_type": "execute_result",
          "data": {
            "text/plain": [
              "((2653, 3, 60), (2653,))"
            ]
          },
          "metadata": {
            "tags": []
          },
          "execution_count": 11
        }
      ]
    },
    {
      "cell_type": "markdown",
      "metadata": {
        "id": "hZZjU3m9VUKX"
      },
      "source": [
        "`x_train` contains 2661 rows (predictions to be made), each containing the 60 preceeding closing stock prices.\n",
        "\n",
        "`y_train`  contains 2661 rows of the day's corresponding stock price (label).\n",
        "\n",
        "\n",
        "Both of these are of type `numpy.ndarray`."
      ]
    },
    {
      "cell_type": "code",
      "metadata": {
        "colab": {
          "base_uri": "https://localhost:8080/"
        },
        "id": "cvBKtGxIXE3o",
        "outputId": "1a27ae26-8afb-4549-b0d1-eb9c0179b09c"
      },
      "source": [
        "# Finally reshape to shape=(#samples, #timesteps, #features) due to tf rnn constraints\n",
        "\n",
        "# x_train = np.reshape(x_train, (x_train.shape[0], \n",
        "#                                x_train.shape[1],\n",
        "#                                x_train.shape[2], 1))\n",
        "x_train.shape"
      ],
      "execution_count": null,
      "outputs": [
        {
          "output_type": "execute_result",
          "data": {
            "text/plain": [
              "(2653, 3, 60)"
            ]
          },
          "metadata": {
            "tags": []
          },
          "execution_count": 16
        }
      ]
    },
    {
      "cell_type": "code",
      "metadata": {
        "colab": {
          "base_uri": "https://localhost:8080/"
        },
        "id": "FljXJQatJM_6",
        "outputId": "2424959d-de4d-47cf-951c-db4b33c5e656"
      },
      "source": [
        "'''\n",
        "Trying to rotate x_train such that it has the shape:\n",
        "  - 2653 rows\n",
        "  - 60 cols (timesteps)\n",
        "  - 3 layers (open, close, volume)\n",
        "\n",
        "i.e. rotate along vertical axis (from axis 1 to axis 2)\n",
        "'''\n",
        "x_train = np.rot90(x_train, axes=(1, 2))\n",
        "x_train.shape"
      ],
      "execution_count": null,
      "outputs": [
        {
          "output_type": "execute_result",
          "data": {
            "text/plain": [
              "(2653, 60, 3)"
            ]
          },
          "metadata": {
            "tags": []
          },
          "execution_count": 45
        }
      ]
    },
    {
      "cell_type": "markdown",
      "metadata": {
        "id": "Wd7uVfbSXhIw"
      },
      "source": [
        "---\n",
        "## Constructing basic RNN\n",
        "*All relevant libraries have been imported at the top of the notebook.*"
      ]
    },
    {
      "cell_type": "markdown",
      "metadata": {
        "id": "Ki80UivcX6gk"
      },
      "source": [
        "The network will be of type `Sequential`, containing `LSTM` layers and `Dense` layers which will be added sequentially."
      ]
    },
    {
      "cell_type": "code",
      "metadata": {
        "id": "Fy4v2AIRYJRK"
      },
      "source": [
        "with tf.device(device_name):\n",
        "  # Define and \"initialise\" network\n",
        "  rnn = Sequential()\n",
        "\n",
        "  # Define relevant parameters and add LSTM layers\n",
        "  units = 60\n",
        "  drop = 0.15\n",
        "  # units_last = 30\n",
        "  ret_seq = [True, True, True, True, True, False]\n",
        "  ret_seq2 = [True, True, False]\n",
        "  \n",
        "  # input_shape takes (Samples= >=1, TIMESTEPS, Features)\n",
        "  input_shape = (x_train.shape[1], x_train.shape[2]) # Num samples is assumed to be at least 1\n",
        "\n",
        "  rnn.add(LSTM(units=units, return_sequences=True,\n",
        "               dropout=drop, \n",
        "               input_shape=input_shape))\n",
        "  for ret in ret_seq:\n",
        "    rnn.add(LSTM(units=units, return_sequences=ret, \n",
        "                 dropout=drop))\n",
        "  rnn.add(Dense(units=265, activation='sigmoid'))\n",
        "  rnn.add(Dense(units=10, activation='sigmoid'))\n",
        "  rnn.add(Dense(units=3))"
      ],
      "execution_count": null,
      "outputs": []
    },
    {
      "cell_type": "markdown",
      "metadata": {
        "id": "F1eJlwKrcYpE"
      },
      "source": [
        "### RNN Structure\n",
        "The RNN being used has the following structure:\n",
        "*  LSTM ($60n$) \n",
        "*  LSTM ($60n$, `dropout`=$0.25$) $\\times 3$\n",
        "*  Dense ($10n$)\n",
        "*  Dense ($1n$)\n",
        "\n",
        "*All initial LSTM layers have `return_sequences=True`.*"
      ]
    },
    {
      "cell_type": "markdown",
      "metadata": {
        "id": "08bzJKQtd_XW"
      },
      "source": [
        "### Compile and Fit NN\n",
        "Optimiser being used will be `adam`, and loss function used will be means squared loss since we are dealing with continuous data."
      ]
    },
    {
      "cell_type": "code",
      "metadata": {
        "id": "uJ2CF426etaJ"
      },
      "source": [
        "optim  = tf.keras.optimizers.Adam(clipvalue=1.0)\n",
        "\n",
        "# Compile network (and allow for concrete initialisation of layers)\n",
        "rnn.compile(optimizer = optim, loss = 'mean_absolute_percentage_error')"
      ],
      "execution_count": null,
      "outputs": []
    },
    {
      "cell_type": "code",
      "metadata": {
        "colab": {
          "base_uri": "https://localhost:8080/"
        },
        "id": "i5Cnwr-kDpkx",
        "outputId": "0f4677f8-91ba-4211-ae27-5efe30591c9d"
      },
      "source": [
        "rnn.fit(x_train, y_train, epochs=300, batch_size=48)"
      ],
      "execution_count": null,
      "outputs": [
        {
          "output_type": "stream",
          "text": [
            "Epoch 1/300\n",
            "56/56 [==============================] - 12s 22ms/step - loss: 19.6353\n",
            "Epoch 2/300\n",
            "56/56 [==============================] - 1s 22ms/step - loss: 14.2539\n",
            "Epoch 3/300\n",
            "56/56 [==============================] - 1s 23ms/step - loss: 14.2114\n",
            "Epoch 4/300\n",
            "56/56 [==============================] - 1s 22ms/step - loss: 13.9384\n",
            "Epoch 5/300\n",
            "56/56 [==============================] - 1s 22ms/step - loss: 14.0269\n",
            "Epoch 6/300\n",
            "56/56 [==============================] - 1s 23ms/step - loss: 12.9484\n",
            "Epoch 7/300\n",
            "56/56 [==============================] - 1s 22ms/step - loss: 11.8137\n",
            "Epoch 8/300\n",
            "56/56 [==============================] - 1s 23ms/step - loss: 11.5764\n",
            "Epoch 9/300\n",
            "56/56 [==============================] - 1s 22ms/step - loss: 11.6685\n",
            "Epoch 10/300\n",
            "56/56 [==============================] - 1s 22ms/step - loss: 11.2200\n",
            "Epoch 11/300\n",
            "56/56 [==============================] - 1s 22ms/step - loss: 12.2144\n",
            "Epoch 12/300\n",
            "56/56 [==============================] - 1s 23ms/step - loss: 11.4080\n",
            "Epoch 13/300\n",
            "56/56 [==============================] - 1s 22ms/step - loss: 12.3024\n",
            "Epoch 14/300\n",
            "56/56 [==============================] - 1s 22ms/step - loss: 11.7187\n",
            "Epoch 15/300\n",
            "56/56 [==============================] - 1s 22ms/step - loss: 11.2443\n",
            "Epoch 16/300\n",
            "56/56 [==============================] - 1s 22ms/step - loss: 11.3548\n",
            "Epoch 17/300\n",
            "56/56 [==============================] - 1s 23ms/step - loss: 11.0654\n",
            "Epoch 18/300\n",
            "56/56 [==============================] - 1s 21ms/step - loss: 11.5472\n",
            "Epoch 19/300\n",
            "56/56 [==============================] - 1s 22ms/step - loss: 10.9095\n",
            "Epoch 20/300\n",
            "56/56 [==============================] - 1s 22ms/step - loss: 10.8152\n",
            "Epoch 21/300\n",
            "56/56 [==============================] - 1s 22ms/step - loss: 11.0591\n",
            "Epoch 22/300\n",
            "56/56 [==============================] - 1s 21ms/step - loss: 10.2011\n",
            "Epoch 23/300\n",
            "56/56 [==============================] - 1s 21ms/step - loss: 10.6256\n",
            "Epoch 24/300\n",
            "56/56 [==============================] - 1s 21ms/step - loss: 10.9225\n",
            "Epoch 25/300\n",
            "56/56 [==============================] - 1s 22ms/step - loss: 11.4158\n",
            "Epoch 26/300\n",
            "56/56 [==============================] - 1s 22ms/step - loss: 11.5912\n",
            "Epoch 27/300\n",
            "56/56 [==============================] - 1s 22ms/step - loss: 11.4591\n",
            "Epoch 28/300\n",
            "56/56 [==============================] - 1s 22ms/step - loss: 10.3674\n",
            "Epoch 29/300\n",
            "56/56 [==============================] - 1s 22ms/step - loss: 11.3444\n",
            "Epoch 30/300\n",
            "56/56 [==============================] - 1s 22ms/step - loss: 14.9931\n",
            "Epoch 31/300\n",
            "56/56 [==============================] - 1s 22ms/step - loss: 12.3046\n",
            "Epoch 32/300\n",
            "56/56 [==============================] - 1s 20ms/step - loss: 10.7397\n",
            "Epoch 33/300\n",
            "56/56 [==============================] - 1s 22ms/step - loss: 11.3945\n",
            "Epoch 34/300\n",
            "56/56 [==============================] - 1s 22ms/step - loss: 10.8044\n",
            "Epoch 35/300\n",
            "56/56 [==============================] - 1s 22ms/step - loss: 10.9217\n",
            "Epoch 36/300\n",
            "56/56 [==============================] - 1s 22ms/step - loss: 11.4147\n",
            "Epoch 37/300\n",
            "56/56 [==============================] - 1s 21ms/step - loss: 11.2240\n",
            "Epoch 38/300\n",
            "56/56 [==============================] - 1s 22ms/step - loss: 11.0559\n",
            "Epoch 39/300\n",
            "56/56 [==============================] - 1s 22ms/step - loss: 11.1463\n",
            "Epoch 40/300\n",
            "56/56 [==============================] - 1s 23ms/step - loss: 11.4767\n",
            "Epoch 41/300\n",
            "56/56 [==============================] - 1s 23ms/step - loss: 10.4389\n",
            "Epoch 42/300\n",
            "56/56 [==============================] - 1s 21ms/step - loss: 13.3579\n",
            "Epoch 43/300\n",
            "56/56 [==============================] - 1s 22ms/step - loss: 11.2368\n",
            "Epoch 44/300\n",
            "56/56 [==============================] - 1s 22ms/step - loss: 11.5357\n",
            "Epoch 45/300\n",
            "56/56 [==============================] - 1s 23ms/step - loss: 11.0416\n",
            "Epoch 46/300\n",
            "56/56 [==============================] - 1s 22ms/step - loss: 10.3372\n",
            "Epoch 47/300\n",
            "56/56 [==============================] - 1s 23ms/step - loss: 12.2046\n",
            "Epoch 48/300\n",
            "56/56 [==============================] - 1s 22ms/step - loss: 11.7166\n",
            "Epoch 49/300\n",
            "56/56 [==============================] - 1s 23ms/step - loss: 12.1170\n",
            "Epoch 50/300\n",
            "56/56 [==============================] - 1s 23ms/step - loss: 11.8794\n",
            "Epoch 51/300\n",
            "56/56 [==============================] - 1s 23ms/step - loss: 13.0847\n",
            "Epoch 52/300\n",
            "56/56 [==============================] - 1s 22ms/step - loss: 11.2962\n",
            "Epoch 53/300\n",
            "56/56 [==============================] - 1s 24ms/step - loss: 10.1272\n",
            "Epoch 54/300\n",
            "56/56 [==============================] - 1s 22ms/step - loss: 11.3240\n",
            "Epoch 55/300\n",
            "56/56 [==============================] - 1s 22ms/step - loss: 10.1996\n",
            "Epoch 56/300\n",
            "56/56 [==============================] - 1s 23ms/step - loss: 12.1895\n",
            "Epoch 57/300\n",
            "56/56 [==============================] - 1s 23ms/step - loss: 12.0513\n",
            "Epoch 58/300\n",
            "56/56 [==============================] - 1s 23ms/step - loss: 11.5372\n",
            "Epoch 59/300\n",
            "56/56 [==============================] - 1s 23ms/step - loss: 11.5260\n",
            "Epoch 60/300\n",
            "56/56 [==============================] - 1s 23ms/step - loss: 10.2979\n",
            "Epoch 61/300\n",
            "56/56 [==============================] - 1s 23ms/step - loss: 11.2314\n",
            "Epoch 62/300\n",
            "56/56 [==============================] - 1s 23ms/step - loss: 10.5647\n",
            "Epoch 63/300\n",
            "56/56 [==============================] - 1s 23ms/step - loss: 11.3560\n",
            "Epoch 64/300\n",
            "56/56 [==============================] - 1s 22ms/step - loss: 11.4188\n",
            "Epoch 65/300\n",
            "56/56 [==============================] - 1s 23ms/step - loss: 10.9376\n",
            "Epoch 66/300\n",
            "56/56 [==============================] - 1s 23ms/step - loss: 11.3271\n",
            "Epoch 67/300\n",
            "56/56 [==============================] - 1s 23ms/step - loss: 10.3713\n",
            "Epoch 68/300\n",
            "56/56 [==============================] - 1s 23ms/step - loss: 11.9817\n",
            "Epoch 69/300\n",
            "56/56 [==============================] - 1s 22ms/step - loss: 10.5687\n",
            "Epoch 70/300\n",
            "56/56 [==============================] - 1s 21ms/step - loss: 10.8515\n",
            "Epoch 71/300\n",
            "56/56 [==============================] - 1s 22ms/step - loss: 11.4699\n",
            "Epoch 72/300\n",
            "56/56 [==============================] - 1s 22ms/step - loss: 9.8087\n",
            "Epoch 73/300\n",
            "56/56 [==============================] - 1s 22ms/step - loss: 10.6523\n",
            "Epoch 74/300\n",
            "56/56 [==============================] - 1s 22ms/step - loss: 10.5111\n",
            "Epoch 75/300\n",
            "56/56 [==============================] - 1s 22ms/step - loss: 9.9107\n",
            "Epoch 76/300\n",
            "56/56 [==============================] - 1s 23ms/step - loss: 9.7721\n",
            "Epoch 77/300\n",
            "56/56 [==============================] - 1s 22ms/step - loss: 9.9820\n",
            "Epoch 78/300\n",
            "56/56 [==============================] - 1s 23ms/step - loss: 10.9512\n",
            "Epoch 79/300\n",
            "56/56 [==============================] - 1s 22ms/step - loss: 10.9327\n",
            "Epoch 80/300\n",
            "56/56 [==============================] - 1s 23ms/step - loss: 10.8431\n",
            "Epoch 81/300\n",
            "56/56 [==============================] - 1s 22ms/step - loss: 11.3142\n",
            "Epoch 82/300\n",
            "56/56 [==============================] - 1s 22ms/step - loss: 10.2451\n",
            "Epoch 83/300\n",
            "56/56 [==============================] - 1s 23ms/step - loss: 10.0757\n",
            "Epoch 84/300\n",
            "56/56 [==============================] - 1s 21ms/step - loss: 10.0179\n",
            "Epoch 85/300\n",
            "56/56 [==============================] - 1s 22ms/step - loss: 10.5017\n",
            "Epoch 86/300\n",
            "56/56 [==============================] - 1s 23ms/step - loss: 10.9281\n",
            "Epoch 87/300\n",
            "56/56 [==============================] - 1s 23ms/step - loss: 11.0589\n",
            "Epoch 88/300\n",
            "56/56 [==============================] - 1s 23ms/step - loss: 10.8124\n",
            "Epoch 89/300\n",
            "56/56 [==============================] - 1s 23ms/step - loss: 11.0486\n",
            "Epoch 90/300\n",
            "56/56 [==============================] - 1s 23ms/step - loss: 10.1113\n",
            "Epoch 91/300\n",
            "56/56 [==============================] - 1s 23ms/step - loss: 10.3334\n",
            "Epoch 92/300\n",
            "56/56 [==============================] - 1s 23ms/step - loss: 9.5760\n",
            "Epoch 93/300\n",
            "56/56 [==============================] - 1s 23ms/step - loss: 11.2704\n",
            "Epoch 94/300\n",
            "56/56 [==============================] - 1s 22ms/step - loss: 10.9873\n",
            "Epoch 95/300\n",
            "56/56 [==============================] - 1s 23ms/step - loss: 11.3924\n",
            "Epoch 96/300\n",
            "56/56 [==============================] - 1s 23ms/step - loss: 11.2728\n",
            "Epoch 97/300\n",
            "56/56 [==============================] - 1s 23ms/step - loss: 10.4241\n",
            "Epoch 98/300\n",
            "56/56 [==============================] - 1s 22ms/step - loss: 9.9504\n",
            "Epoch 99/300\n",
            "56/56 [==============================] - 1s 23ms/step - loss: 10.4711\n",
            "Epoch 100/300\n",
            "56/56 [==============================] - 1s 23ms/step - loss: 10.3571\n",
            "Epoch 101/300\n",
            "56/56 [==============================] - 1s 23ms/step - loss: 10.4825\n",
            "Epoch 102/300\n",
            "56/56 [==============================] - 1s 23ms/step - loss: 9.3711\n",
            "Epoch 103/300\n",
            "56/56 [==============================] - 1s 23ms/step - loss: 11.5786\n",
            "Epoch 104/300\n",
            "56/56 [==============================] - 1s 23ms/step - loss: 12.8974\n",
            "Epoch 105/300\n",
            "56/56 [==============================] - 1s 23ms/step - loss: 11.1269\n",
            "Epoch 106/300\n",
            "56/56 [==============================] - 1s 23ms/step - loss: 9.3267\n",
            "Epoch 107/300\n",
            "56/56 [==============================] - 1s 23ms/step - loss: 9.9014\n",
            "Epoch 108/300\n",
            "56/56 [==============================] - 1s 23ms/step - loss: 10.2863\n",
            "Epoch 109/300\n",
            "56/56 [==============================] - 1s 24ms/step - loss: 10.3099\n",
            "Epoch 110/300\n",
            "56/56 [==============================] - 1s 23ms/step - loss: 9.3787\n",
            "Epoch 111/300\n",
            "56/56 [==============================] - 1s 23ms/step - loss: 10.0521\n",
            "Epoch 112/300\n",
            "56/56 [==============================] - 1s 23ms/step - loss: 9.7630\n",
            "Epoch 113/300\n",
            "56/56 [==============================] - 1s 23ms/step - loss: 10.0994\n",
            "Epoch 114/300\n",
            "56/56 [==============================] - 1s 22ms/step - loss: 12.2891\n",
            "Epoch 115/300\n",
            "56/56 [==============================] - 1s 23ms/step - loss: 9.7405\n",
            "Epoch 116/300\n",
            "56/56 [==============================] - 1s 23ms/step - loss: 10.1733\n",
            "Epoch 117/300\n",
            "56/56 [==============================] - 1s 23ms/step - loss: 9.3936\n",
            "Epoch 118/300\n",
            "56/56 [==============================] - 1s 23ms/step - loss: 9.7576\n",
            "Epoch 119/300\n",
            "56/56 [==============================] - 1s 23ms/step - loss: 10.1591\n",
            "Epoch 120/300\n",
            "56/56 [==============================] - 1s 23ms/step - loss: 9.6072\n",
            "Epoch 121/300\n",
            "56/56 [==============================] - 1s 22ms/step - loss: 11.1680\n",
            "Epoch 122/300\n",
            "56/56 [==============================] - 1s 22ms/step - loss: 9.8932\n",
            "Epoch 123/300\n",
            "56/56 [==============================] - 1s 23ms/step - loss: 9.4939\n",
            "Epoch 124/300\n",
            "56/56 [==============================] - 1s 22ms/step - loss: 10.4455\n",
            "Epoch 125/300\n",
            "56/56 [==============================] - 1s 22ms/step - loss: 9.8409\n",
            "Epoch 126/300\n",
            "56/56 [==============================] - 1s 23ms/step - loss: 9.3519\n",
            "Epoch 127/300\n",
            "56/56 [==============================] - 1s 22ms/step - loss: 9.8085\n",
            "Epoch 128/300\n",
            "56/56 [==============================] - 1s 22ms/step - loss: 9.8675\n",
            "Epoch 129/300\n",
            "56/56 [==============================] - 1s 23ms/step - loss: 9.9540\n",
            "Epoch 130/300\n",
            "56/56 [==============================] - 1s 22ms/step - loss: 10.2835\n",
            "Epoch 131/300\n",
            "56/56 [==============================] - 1s 22ms/step - loss: 10.3160\n",
            "Epoch 132/300\n",
            "56/56 [==============================] - 1s 22ms/step - loss: 10.8868\n",
            "Epoch 133/300\n",
            "56/56 [==============================] - 1s 23ms/step - loss: 10.0070\n",
            "Epoch 134/300\n",
            "56/56 [==============================] - 1s 23ms/step - loss: 9.2440\n",
            "Epoch 135/300\n",
            "56/56 [==============================] - 1s 23ms/step - loss: 9.3868\n",
            "Epoch 136/300\n",
            "56/56 [==============================] - 1s 22ms/step - loss: 9.2802\n",
            "Epoch 137/300\n",
            "56/56 [==============================] - 1s 23ms/step - loss: 9.3641\n",
            "Epoch 138/300\n",
            "56/56 [==============================] - 1s 24ms/step - loss: 9.5336\n",
            "Epoch 139/300\n",
            "56/56 [==============================] - 1s 22ms/step - loss: 8.7241\n",
            "Epoch 140/300\n",
            "56/56 [==============================] - 1s 23ms/step - loss: 10.2482\n",
            "Epoch 141/300\n",
            "56/56 [==============================] - 1s 23ms/step - loss: 9.7088\n",
            "Epoch 142/300\n",
            "56/56 [==============================] - 1s 24ms/step - loss: 9.2174\n",
            "Epoch 143/300\n",
            "56/56 [==============================] - 1s 23ms/step - loss: 10.7134\n",
            "Epoch 144/300\n",
            "56/56 [==============================] - 1s 22ms/step - loss: 9.2903\n",
            "Epoch 145/300\n",
            "56/56 [==============================] - 1s 22ms/step - loss: 9.8414\n",
            "Epoch 146/300\n",
            "56/56 [==============================] - 1s 22ms/step - loss: 10.2654\n",
            "Epoch 147/300\n",
            "56/56 [==============================] - 1s 23ms/step - loss: 9.9308\n",
            "Epoch 148/300\n",
            "56/56 [==============================] - 1s 23ms/step - loss: 9.8921\n",
            "Epoch 149/300\n",
            "56/56 [==============================] - 1s 22ms/step - loss: 9.2600\n",
            "Epoch 150/300\n",
            "56/56 [==============================] - 1s 22ms/step - loss: 9.8214\n",
            "Epoch 151/300\n",
            "56/56 [==============================] - 1s 22ms/step - loss: 10.8260\n",
            "Epoch 152/300\n",
            "56/56 [==============================] - 1s 22ms/step - loss: 11.0013\n",
            "Epoch 153/300\n",
            "56/56 [==============================] - 1s 23ms/step - loss: 11.9909\n",
            "Epoch 154/300\n",
            "56/56 [==============================] - 1s 22ms/step - loss: 10.2894\n",
            "Epoch 155/300\n",
            "56/56 [==============================] - 1s 22ms/step - loss: 9.2536\n",
            "Epoch 156/300\n",
            "56/56 [==============================] - 1s 22ms/step - loss: 9.3083\n",
            "Epoch 157/300\n",
            "56/56 [==============================] - 1s 22ms/step - loss: 9.7161\n",
            "Epoch 158/300\n",
            "56/56 [==============================] - 1s 22ms/step - loss: 9.4901\n",
            "Epoch 159/300\n",
            "56/56 [==============================] - 1s 22ms/step - loss: 9.5949\n",
            "Epoch 160/300\n",
            "56/56 [==============================] - 1s 24ms/step - loss: 9.1999\n",
            "Epoch 161/300\n",
            "56/56 [==============================] - 1s 23ms/step - loss: 9.8519\n",
            "Epoch 162/300\n",
            "56/56 [==============================] - 1s 23ms/step - loss: 9.7532\n",
            "Epoch 163/300\n",
            "56/56 [==============================] - 1s 24ms/step - loss: 9.5704\n",
            "Epoch 164/300\n",
            "56/56 [==============================] - 1s 23ms/step - loss: 9.3431\n",
            "Epoch 165/300\n",
            "56/56 [==============================] - 1s 24ms/step - loss: 8.6648\n",
            "Epoch 166/300\n",
            "56/56 [==============================] - 1s 23ms/step - loss: 10.0507\n",
            "Epoch 167/300\n",
            "56/56 [==============================] - 1s 23ms/step - loss: 9.3977\n",
            "Epoch 168/300\n",
            "56/56 [==============================] - 1s 24ms/step - loss: 9.3270\n",
            "Epoch 169/300\n",
            "56/56 [==============================] - 1s 23ms/step - loss: 9.2660\n",
            "Epoch 170/300\n",
            "56/56 [==============================] - 1s 23ms/step - loss: 8.9381\n",
            "Epoch 171/300\n",
            "56/56 [==============================] - 1s 24ms/step - loss: 8.8336\n",
            "Epoch 172/300\n",
            "56/56 [==============================] - 1s 23ms/step - loss: 9.0059\n",
            "Epoch 173/300\n",
            "56/56 [==============================] - 1s 22ms/step - loss: 8.8296\n",
            "Epoch 174/300\n",
            "56/56 [==============================] - 1s 23ms/step - loss: 9.7474\n",
            "Epoch 175/300\n",
            "56/56 [==============================] - 1s 22ms/step - loss: 9.2831\n",
            "Epoch 176/300\n",
            "56/56 [==============================] - 1s 21ms/step - loss: 9.0703\n",
            "Epoch 177/300\n",
            "56/56 [==============================] - 1s 23ms/step - loss: 8.9384\n",
            "Epoch 178/300\n",
            "56/56 [==============================] - 1s 23ms/step - loss: 9.2814\n",
            "Epoch 179/300\n",
            "56/56 [==============================] - 1s 23ms/step - loss: 10.3272\n",
            "Epoch 180/300\n",
            "56/56 [==============================] - 1s 22ms/step - loss: 9.2382\n",
            "Epoch 181/300\n",
            "56/56 [==============================] - 1s 21ms/step - loss: 9.5038\n",
            "Epoch 182/300\n",
            "56/56 [==============================] - 1s 23ms/step - loss: 9.4138\n",
            "Epoch 183/300\n",
            "56/56 [==============================] - 1s 23ms/step - loss: 9.2910\n",
            "Epoch 184/300\n",
            "56/56 [==============================] - 1s 22ms/step - loss: 9.2688\n",
            "Epoch 185/300\n",
            "56/56 [==============================] - 1s 23ms/step - loss: 8.6215\n",
            "Epoch 186/300\n",
            "56/56 [==============================] - 1s 23ms/step - loss: 10.3259\n",
            "Epoch 187/300\n",
            "56/56 [==============================] - 1s 23ms/step - loss: 10.3255\n",
            "Epoch 188/300\n",
            "56/56 [==============================] - 1s 23ms/step - loss: 9.5537\n",
            "Epoch 189/300\n",
            "56/56 [==============================] - 1s 23ms/step - loss: 9.1139\n",
            "Epoch 190/300\n",
            "56/56 [==============================] - 1s 22ms/step - loss: 10.0005\n",
            "Epoch 191/300\n",
            "56/56 [==============================] - 1s 22ms/step - loss: 10.2511\n",
            "Epoch 192/300\n",
            "56/56 [==============================] - 1s 22ms/step - loss: 9.0908\n",
            "Epoch 193/300\n",
            "56/56 [==============================] - 1s 23ms/step - loss: 9.3952\n",
            "Epoch 194/300\n",
            "56/56 [==============================] - 1s 23ms/step - loss: 9.2642\n",
            "Epoch 195/300\n",
            "56/56 [==============================] - 1s 23ms/step - loss: 9.3559\n",
            "Epoch 196/300\n",
            "56/56 [==============================] - 1s 22ms/step - loss: 9.0450\n",
            "Epoch 197/300\n",
            "56/56 [==============================] - 1s 23ms/step - loss: 10.5054\n",
            "Epoch 198/300\n",
            "56/56 [==============================] - 1s 22ms/step - loss: 9.7639\n",
            "Epoch 199/300\n",
            "56/56 [==============================] - 1s 23ms/step - loss: 9.6104\n",
            "Epoch 200/300\n",
            "56/56 [==============================] - 1s 23ms/step - loss: 9.0624\n",
            "Epoch 201/300\n",
            "56/56 [==============================] - 1s 22ms/step - loss: 9.5292\n",
            "Epoch 202/300\n",
            "56/56 [==============================] - 1s 24ms/step - loss: 8.9664\n",
            "Epoch 203/300\n",
            "56/56 [==============================] - 1s 23ms/step - loss: 9.5236\n",
            "Epoch 204/300\n",
            "56/56 [==============================] - 1s 23ms/step - loss: 9.2153\n",
            "Epoch 205/300\n",
            "56/56 [==============================] - 1s 23ms/step - loss: 9.3657\n",
            "Epoch 206/300\n",
            "56/56 [==============================] - 1s 23ms/step - loss: 9.7110\n",
            "Epoch 207/300\n",
            "56/56 [==============================] - 1s 24ms/step - loss: 9.0486\n",
            "Epoch 208/300\n",
            "56/56 [==============================] - 1s 23ms/step - loss: 9.0489\n",
            "Epoch 209/300\n",
            "56/56 [==============================] - 1s 23ms/step - loss: 8.9953\n",
            "Epoch 210/300\n",
            "56/56 [==============================] - 1s 23ms/step - loss: 9.4040\n",
            "Epoch 211/300\n",
            "56/56 [==============================] - 1s 24ms/step - loss: 11.5217\n",
            "Epoch 212/300\n",
            "56/56 [==============================] - 1s 24ms/step - loss: 9.0298\n",
            "Epoch 213/300\n",
            "56/56 [==============================] - 1s 23ms/step - loss: 10.2848\n",
            "Epoch 214/300\n",
            "56/56 [==============================] - 1s 23ms/step - loss: 9.4903\n",
            "Epoch 215/300\n",
            "56/56 [==============================] - 1s 23ms/step - loss: 8.7672\n",
            "Epoch 216/300\n",
            "56/56 [==============================] - 1s 23ms/step - loss: 8.7562\n",
            "Epoch 217/300\n",
            "56/56 [==============================] - 1s 22ms/step - loss: 8.7570\n",
            "Epoch 218/300\n",
            "56/56 [==============================] - 1s 23ms/step - loss: 8.5693\n",
            "Epoch 219/300\n",
            "56/56 [==============================] - 1s 23ms/step - loss: 8.7015\n",
            "Epoch 220/300\n",
            "56/56 [==============================] - 1s 22ms/step - loss: 9.2548\n",
            "Epoch 221/300\n",
            "56/56 [==============================] - 1s 23ms/step - loss: 9.6026\n",
            "Epoch 222/300\n",
            "56/56 [==============================] - 1s 23ms/step - loss: 10.0097\n",
            "Epoch 223/300\n",
            "56/56 [==============================] - 1s 23ms/step - loss: 10.0357\n",
            "Epoch 224/300\n",
            "56/56 [==============================] - 1s 23ms/step - loss: 9.0100\n",
            "Epoch 225/300\n",
            "56/56 [==============================] - 1s 23ms/step - loss: 8.6776\n",
            "Epoch 226/300\n",
            "56/56 [==============================] - 1s 21ms/step - loss: 9.0423\n",
            "Epoch 227/300\n",
            "56/56 [==============================] - 1s 22ms/step - loss: 9.0926\n",
            "Epoch 228/300\n",
            "56/56 [==============================] - 1s 23ms/step - loss: 9.4431\n",
            "Epoch 229/300\n",
            "56/56 [==============================] - 1s 23ms/step - loss: 8.7383\n",
            "Epoch 230/300\n",
            "56/56 [==============================] - 1s 22ms/step - loss: 8.8606\n",
            "Epoch 231/300\n",
            "56/56 [==============================] - 1s 22ms/step - loss: 9.1657\n",
            "Epoch 232/300\n",
            "56/56 [==============================] - 1s 22ms/step - loss: 9.3492\n",
            "Epoch 233/300\n",
            "56/56 [==============================] - 1s 23ms/step - loss: 9.1305\n",
            "Epoch 234/300\n",
            "56/56 [==============================] - 1s 23ms/step - loss: 9.0280\n",
            "Epoch 235/300\n",
            "56/56 [==============================] - 1s 23ms/step - loss: 9.8692\n",
            "Epoch 236/300\n",
            "56/56 [==============================] - 1s 23ms/step - loss: 8.8180\n",
            "Epoch 237/300\n",
            "56/56 [==============================] - 1s 23ms/step - loss: 8.8094\n",
            "Epoch 238/300\n",
            "56/56 [==============================] - 1s 23ms/step - loss: 8.8539\n",
            "Epoch 239/300\n",
            "56/56 [==============================] - 1s 23ms/step - loss: 8.5142\n",
            "Epoch 240/300\n",
            "56/56 [==============================] - 1s 23ms/step - loss: 8.5707\n",
            "Epoch 241/300\n",
            "56/56 [==============================] - 1s 24ms/step - loss: 8.7341\n",
            "Epoch 242/300\n",
            "56/56 [==============================] - 1s 23ms/step - loss: 9.6609\n",
            "Epoch 243/300\n",
            "56/56 [==============================] - 1s 23ms/step - loss: 8.5827\n",
            "Epoch 244/300\n",
            "56/56 [==============================] - 1s 23ms/step - loss: 8.6715\n",
            "Epoch 245/300\n",
            "56/56 [==============================] - 1s 24ms/step - loss: 8.6146\n",
            "Epoch 246/300\n",
            "56/56 [==============================] - 1s 23ms/step - loss: 9.4285\n",
            "Epoch 247/300\n",
            "56/56 [==============================] - 1s 23ms/step - loss: 8.7994\n",
            "Epoch 248/300\n",
            "56/56 [==============================] - 1s 22ms/step - loss: 8.4763\n",
            "Epoch 249/300\n",
            "56/56 [==============================] - 1s 23ms/step - loss: 8.9162\n",
            "Epoch 250/300\n",
            "56/56 [==============================] - 1s 23ms/step - loss: 9.1231\n",
            "Epoch 251/300\n",
            "56/56 [==============================] - 1s 23ms/step - loss: 9.0701\n",
            "Epoch 252/300\n",
            "56/56 [==============================] - 1s 23ms/step - loss: 9.3272\n",
            "Epoch 253/300\n",
            "56/56 [==============================] - 1s 24ms/step - loss: 9.1041\n",
            "Epoch 254/300\n",
            "56/56 [==============================] - 1s 23ms/step - loss: 8.1383\n",
            "Epoch 255/300\n",
            "56/56 [==============================] - 1s 22ms/step - loss: 8.2967\n",
            "Epoch 256/300\n",
            "56/56 [==============================] - 1s 22ms/step - loss: 8.4618\n",
            "Epoch 257/300\n",
            "56/56 [==============================] - 1s 22ms/step - loss: 11.2139\n",
            "Epoch 258/300\n",
            "56/56 [==============================] - 1s 23ms/step - loss: 8.6290\n",
            "Epoch 259/300\n",
            "56/56 [==============================] - 1s 23ms/step - loss: 8.0867\n",
            "Epoch 260/300\n",
            "56/56 [==============================] - 1s 24ms/step - loss: 7.9309\n",
            "Epoch 261/300\n",
            "56/56 [==============================] - 1s 23ms/step - loss: 8.8766\n",
            "Epoch 262/300\n",
            "56/56 [==============================] - 1s 24ms/step - loss: 7.7762\n",
            "Epoch 263/300\n",
            "56/56 [==============================] - 1s 23ms/step - loss: 8.9720\n",
            "Epoch 264/300\n",
            "56/56 [==============================] - 1s 23ms/step - loss: 9.1383\n",
            "Epoch 265/300\n",
            "56/56 [==============================] - 1s 23ms/step - loss: 8.0917\n",
            "Epoch 266/300\n",
            "56/56 [==============================] - 1s 23ms/step - loss: 8.4042\n",
            "Epoch 267/300\n",
            "56/56 [==============================] - 1s 24ms/step - loss: 8.7284\n",
            "Epoch 268/300\n",
            "56/56 [==============================] - 1s 23ms/step - loss: 9.9230\n",
            "Epoch 269/300\n",
            "56/56 [==============================] - 1s 23ms/step - loss: 8.7858\n",
            "Epoch 270/300\n",
            "56/56 [==============================] - 1s 24ms/step - loss: 8.3915\n",
            "Epoch 271/300\n",
            "56/56 [==============================] - 1s 22ms/step - loss: 7.5872\n",
            "Epoch 272/300\n",
            "56/56 [==============================] - 1s 23ms/step - loss: 8.2394\n",
            "Epoch 273/300\n",
            "56/56 [==============================] - 1s 24ms/step - loss: 7.8596\n",
            "Epoch 274/300\n",
            "56/56 [==============================] - 1s 23ms/step - loss: 8.8427\n",
            "Epoch 275/300\n",
            "56/56 [==============================] - 1s 23ms/step - loss: 8.8974\n",
            "Epoch 276/300\n",
            "56/56 [==============================] - 1s 22ms/step - loss: 8.2564\n",
            "Epoch 277/300\n",
            "56/56 [==============================] - 1s 23ms/step - loss: 8.8780\n",
            "Epoch 278/300\n",
            "56/56 [==============================] - 1s 23ms/step - loss: 7.9234\n",
            "Epoch 279/300\n",
            "56/56 [==============================] - 1s 23ms/step - loss: 7.5494\n",
            "Epoch 280/300\n",
            "56/56 [==============================] - 1s 23ms/step - loss: 7.8864\n",
            "Epoch 281/300\n",
            "56/56 [==============================] - 1s 23ms/step - loss: 7.6858\n",
            "Epoch 282/300\n",
            "56/56 [==============================] - 1s 22ms/step - loss: 8.5134\n",
            "Epoch 283/300\n",
            "56/56 [==============================] - 1s 23ms/step - loss: 7.7914\n",
            "Epoch 284/300\n",
            "56/56 [==============================] - 1s 22ms/step - loss: 7.6359\n",
            "Epoch 285/300\n",
            "56/56 [==============================] - 1s 23ms/step - loss: 7.6959\n",
            "Epoch 286/300\n",
            "56/56 [==============================] - 1s 23ms/step - loss: 7.9296\n",
            "Epoch 287/300\n",
            "56/56 [==============================] - 1s 23ms/step - loss: 8.2538\n",
            "Epoch 288/300\n",
            "56/56 [==============================] - 1s 22ms/step - loss: 7.9771\n",
            "Epoch 289/300\n",
            "56/56 [==============================] - 1s 22ms/step - loss: 7.2371\n",
            "Epoch 290/300\n",
            "56/56 [==============================] - 1s 23ms/step - loss: 7.8729\n",
            "Epoch 291/300\n",
            "56/56 [==============================] - 1s 24ms/step - loss: 7.4455\n",
            "Epoch 292/300\n",
            "56/56 [==============================] - 1s 22ms/step - loss: 7.6049\n",
            "Epoch 293/300\n",
            "56/56 [==============================] - 1s 23ms/step - loss: 7.1500\n",
            "Epoch 294/300\n",
            "56/56 [==============================] - 1s 23ms/step - loss: 7.5247\n",
            "Epoch 295/300\n",
            "56/56 [==============================] - 1s 24ms/step - loss: 7.6035\n",
            "Epoch 296/300\n",
            "56/56 [==============================] - 1s 23ms/step - loss: 6.9115\n",
            "Epoch 297/300\n",
            "56/56 [==============================] - 1s 21ms/step - loss: 7.0550\n",
            "Epoch 298/300\n",
            "56/56 [==============================] - 1s 24ms/step - loss: 7.6959\n",
            "Epoch 299/300\n",
            "56/56 [==============================] - 1s 22ms/step - loss: 7.7640\n",
            "Epoch 300/300\n",
            "56/56 [==============================] - 1s 21ms/step - loss: 6.9015\n"
          ],
          "name": "stdout"
        },
        {
          "output_type": "execute_result",
          "data": {
            "text/plain": [
              "<tensorflow.python.keras.callbacks.History at 0x7fe2b2a04b10>"
            ]
          },
          "metadata": {
            "tags": []
          },
          "execution_count": 26
        }
      ]
    },
    {
      "cell_type": "markdown",
      "metadata": {
        "id": "QttKrYasknnp"
      },
      "source": [
        "---\n",
        "## Process and Inspect Test Data"
      ]
    },
    {
      "cell_type": "markdown",
      "metadata": {
        "id": "el_963oUk0cf"
      },
      "source": [
        "Filter to remain with only closing prices."
      ]
    },
    {
      "cell_type": "code",
      "metadata": {
        "colab": {
          "base_uri": "https://localhost:8080/"
        },
        "id": "oJVBSynXkzkO",
        "outputId": "934e3809-be86-408b-abe3-3df258440565"
      },
      "source": [
        "unscaled_test = test_df.loc[:, attributes].values\n",
        "type(unscaled_test), unscaled_test.shape"
      ],
      "execution_count": null,
      "outputs": [
        {
          "output_type": "execute_result",
          "data": {
            "text/plain": [
              "(numpy.ndarray, (82, 3))"
            ]
          },
          "metadata": {
            "tags": []
          },
          "execution_count": 27
        }
      ]
    },
    {
      "cell_type": "code",
      "metadata": {
        "colab": {
          "base_uri": "https://localhost:8080/",
          "height": 444
        },
        "id": "bX0tuyAZlOpG",
        "outputId": "962b5f84-1500-4fd4-801f-5ec1a42070ca"
      },
      "source": [
        "test_opening, test_closing, test_volume = unscaled_test[:, 0], unscaled_test[:, 1], unscaled_test[:, 2]\n",
        "plt.figure(figsize=(12,7))\n",
        "plt.plot(test_closing)\n",
        "plt.title('Actual closing prices JUBLFOOD 01/03/2021 - 30/06/2021')\n",
        "plt.ylabel('Closing Price')\n",
        "plt.show()"
      ],
      "execution_count": null,
      "outputs": [
        {
          "output_type": "display_data",
          "data": {
            "image/png": "[encoded data removed]",
            "text/plain": [
              "<Figure size 864x504 with 1 Axes>"
            ]
          },
          "metadata": {
            "tags": [],
            "needs_background": "light"
          }
        }
      ]
    },
    {
      "cell_type": "markdown",
      "metadata": {
        "id": "dycOF5A2meFm"
      },
      "source": [
        "## Predictions\n"
      ]
    },
    {
      "cell_type": "markdown",
      "metadata": {
        "id": "l6lj_wNcmuvl"
      },
      "source": [
        "---\n",
        "### Collect all required datapoints\n",
        "In order to make predictions for the test set, we need to have the previous `TIMESTEP` datapoints from the training set. For this, I will take the last `TIMESTEP` entries from the unscaled training data and append them to the front of all the unscaled testing data."
      ]
    },
    {
      "cell_type": "code",
      "metadata": {
        "id": "_eqWH5wUmveV",
        "colab": {
          "base_uri": "https://localhost:8080/"
        },
        "outputId": "865a6518-e8cc-4dcf-dcce-56edc4953599"
      },
      "source": [
        "# Copy the last 60 elements of unscaled_train to a new array\n",
        "train_timesteps = unscaled_train[-TIMESTEP:]\n",
        "train_timesteps.shape"
      ],
      "execution_count": null,
      "outputs": [
        {
          "output_type": "execute_result",
          "data": {
            "text/plain": [
              "(60, 3)"
            ]
          },
          "metadata": {
            "tags": []
          },
          "execution_count": 29
        }
      ]
    },
    {
      "cell_type": "code",
      "metadata": {
        "colab": {
          "base_uri": "https://localhost:8080/"
        },
        "id": "nLmmjo0JrNLJ",
        "outputId": "fca30232-2d04-409b-ecec-658668da5239"
      },
      "source": [
        "#  Concatenate the training timesteps and check that the numbers match up\n",
        "concat_test = np.concatenate((train_timesteps, unscaled_test))\n",
        "concat_test.shape, unscaled_test.shape"
      ],
      "execution_count": null,
      "outputs": [
        {
          "output_type": "execute_result",
          "data": {
            "text/plain": [
              "((142, 3), (82, 3))"
            ]
          },
          "metadata": {
            "tags": []
          },
          "execution_count": 38
        }
      ]
    },
    {
      "cell_type": "markdown",
      "metadata": {
        "id": "Y0nrVi9iBDtE"
      },
      "source": [
        "---\n",
        "### Formatting\n",
        "Concatenated data array must be reshaped to be usable with `rnn.predict`. Then this data must be scaled similar to the training data, and grouped by each day."
      ]
    },
    {
      "cell_type": "code",
      "metadata": {
        "id": "lEJ23ldFBmVz"
      },
      "source": [
        "# Reshape\n",
        "concat_test = np.reshape(concat_test, (-1, len(attributes)))"
      ],
      "execution_count": null,
      "outputs": []
    },
    {
      "cell_type": "code",
      "metadata": {
        "id": "1j7pEsqdBvxH"
      },
      "source": [
        "# Scale\n",
        "unscaled_close = concat_test[:, 1]\n",
        "test_sc = MinMaxScaler()\n",
        "scaled_test = test_sc.fit_transform(unscaled_close.reshape(-1, 1))"
      ],
      "execution_count": null,
      "outputs": []
    },
    {
      "cell_type": "code",
      "metadata": {
        "id": "kWgA0QB_B48R",
        "colab": {
          "base_uri": "https://localhost:8080/"
        },
        "outputId": "3dc1e09e-9c21-45e3-cb2c-30e6d0450619"
      },
      "source": [
        "# Group into rows of 60 columns\n",
        "days_pred = unscaled_test.shape[0]  # Should equate to 82 for current JUBLFOODS test\n",
        "x_test = np.zeros(shape=(days_pred, TIMESTEP, len(attributes)))\n",
        "\n",
        "for i, prev_stock in enumerate(range(TIMESTEP, len(scaled_test))):\n",
        "  x_test[i] = scaled_test[prev_stock-TIMESTEP:prev_stock]\n",
        "\n",
        "\n",
        "# Reshape one more time to meet tf predict requirements\n",
        "x_test = np.reshape(x_test, (x_test.shape[0], x_test.shape[1], len(attributes)))\n",
        "x_test.shape"
      ],
      "execution_count": null,
      "outputs": [
        {
          "output_type": "execute_result",
          "data": {
            "text/plain": [
              "(82, 60, 3)"
            ]
          },
          "metadata": {
            "tags": []
          },
          "execution_count": 43
        }
      ]
    },
    {
      "cell_type": "markdown",
      "metadata": {
        "id": "lTPWTNB0ELVL"
      },
      "source": [
        "---\n",
        "### Finally make predictions"
      ]
    },
    {
      "cell_type": "code",
      "metadata": {
        "id": "nIGpkDQcEUpa",
        "colab": {
          "base_uri": "https://localhost:8080/",
          "height": 656
        },
        "outputId": "b636d4f9-3f90-4055-90d6-e56a6f1b800e"
      },
      "source": [
        "predictions = rnn.predict(x_test)"
      ],
      "execution_count": null,
      "outputs": [
        {
          "output_type": "error",
          "ename": "ValueError",
          "evalue": "ignored",
          "traceback": [
            "\u001b[0;31m---------------------------------------------------------------------------\u001b[0m",
            "\u001b[0;31mValueError\u001b[0m                                Traceback (most recent call last)",
            "\u001b[0;32m<ipython-input-44-dcb0ba0be7ad>\u001b[0m in \u001b[0;36m<module>\u001b[0;34m()\u001b[0m\n\u001b[0;32m----> 1\u001b[0;31m \u001b[0mpredictions\u001b[0m \u001b[0;34m=\u001b[0m \u001b[0mrnn\u001b[0m\u001b[0;34m.\u001b[0m\u001b[0mpredict\u001b[0m\u001b[0;34m(\u001b[0m\u001b[0mx_test\u001b[0m\u001b[0;34m)\u001b[0m\u001b[0;34m\u001b[0m\u001b[0;34m\u001b[0m\u001b[0m\n\u001b[0m",
            "\u001b[0;32m/usr/local/lib/python3.7/dist-packages/tensorflow/python/keras/engine/training.py\u001b[0m in \u001b[0;36mpredict\u001b[0;34m(self, x, batch_size, verbose, steps, callbacks, max_queue_size, workers, use_multiprocessing)\u001b[0m\n\u001b[1;32m   1725\u001b[0m           \u001b[0;32mfor\u001b[0m \u001b[0mstep\u001b[0m \u001b[0;32min\u001b[0m \u001b[0mdata_handler\u001b[0m\u001b[0;34m.\u001b[0m\u001b[0msteps\u001b[0m\u001b[0;34m(\u001b[0m\u001b[0;34m)\u001b[0m\u001b[0;34m:\u001b[0m\u001b[0;34m\u001b[0m\u001b[0;34m\u001b[0m\u001b[0m\n\u001b[1;32m   1726\u001b[0m             \u001b[0mcallbacks\u001b[0m\u001b[0;34m.\u001b[0m\u001b[0mon_predict_batch_begin\u001b[0m\u001b[0;34m(\u001b[0m\u001b[0mstep\u001b[0m\u001b[0;34m)\u001b[0m\u001b[0;34m\u001b[0m\u001b[0;34m\u001b[0m\u001b[0m\n\u001b[0;32m-> 1727\u001b[0;31m             \u001b[0mtmp_batch_outputs\u001b[0m \u001b[0;34m=\u001b[0m \u001b[0mself\u001b[0m\u001b[0;34m.\u001b[0m\u001b[0mpredict_function\u001b[0m\u001b[0;34m(\u001b[0m\u001b[0miterator\u001b[0m\u001b[0;34m)\u001b[0m\u001b[0;34m\u001b[0m\u001b[0;34m\u001b[0m\u001b[0m\n\u001b[0m\u001b[1;32m   1728\u001b[0m             \u001b[0;32mif\u001b[0m \u001b[0mdata_handler\u001b[0m\u001b[0;34m.\u001b[0m\u001b[0mshould_sync\u001b[0m\u001b[0;34m:\u001b[0m\u001b[0;34m\u001b[0m\u001b[0;34m\u001b[0m\u001b[0m\n\u001b[1;32m   1729\u001b[0m               \u001b[0mcontext\u001b[0m\u001b[0;34m.\u001b[0m\u001b[0masync_wait\u001b[0m\u001b[0;34m(\u001b[0m\u001b[0;34m)\u001b[0m\u001b[0;34m\u001b[0m\u001b[0;34m\u001b[0m\u001b[0m\n",
            "\u001b[0;32m/usr/local/lib/python3.7/dist-packages/tensorflow/python/eager/def_function.py\u001b[0m in \u001b[0;36m__call__\u001b[0;34m(self, *args, **kwds)\u001b[0m\n\u001b[1;32m    887\u001b[0m \u001b[0;34m\u001b[0m\u001b[0m\n\u001b[1;32m    888\u001b[0m       \u001b[0;32mwith\u001b[0m \u001b[0mOptionalXlaContext\u001b[0m\u001b[0;34m(\u001b[0m\u001b[0mself\u001b[0m\u001b[0;34m.\u001b[0m\u001b[0m_jit_compile\u001b[0m\u001b[0;34m)\u001b[0m\u001b[0;34m:\u001b[0m\u001b[0;34m\u001b[0m\u001b[0;34m\u001b[0m\u001b[0m\n\u001b[0;32m--> 889\u001b[0;31m         \u001b[0mresult\u001b[0m \u001b[0;34m=\u001b[0m \u001b[0mself\u001b[0m\u001b[0;34m.\u001b[0m\u001b[0m_call\u001b[0m\u001b[0;34m(\u001b[0m\u001b[0;34m*\u001b[0m\u001b[0margs\u001b[0m\u001b[0;34m,\u001b[0m \u001b[0;34m**\u001b[0m\u001b[0mkwds\u001b[0m\u001b[0;34m)\u001b[0m\u001b[0;34m\u001b[0m\u001b[0;34m\u001b[0m\u001b[0m\n\u001b[0m\u001b[1;32m    890\u001b[0m \u001b[0;34m\u001b[0m\u001b[0m\n\u001b[1;32m    891\u001b[0m       \u001b[0mnew_tracing_count\u001b[0m \u001b[0;34m=\u001b[0m \u001b[0mself\u001b[0m\u001b[0;34m.\u001b[0m\u001b[0mexperimental_get_tracing_count\u001b[0m\u001b[0;34m(\u001b[0m\u001b[0;34m)\u001b[0m\u001b[0;34m\u001b[0m\u001b[0;34m\u001b[0m\u001b[0m\n",
            "\u001b[0;32m/usr/local/lib/python3.7/dist-packages/tensorflow/python/eager/def_function.py\u001b[0m in \u001b[0;36m_call\u001b[0;34m(self, *args, **kwds)\u001b[0m\n\u001b[1;32m    931\u001b[0m       \u001b[0;31m# This is the first call of __call__, so we have to initialize.\u001b[0m\u001b[0;34m\u001b[0m\u001b[0;34m\u001b[0m\u001b[0;34m\u001b[0m\u001b[0m\n\u001b[1;32m    932\u001b[0m       \u001b[0minitializers\u001b[0m \u001b[0;34m=\u001b[0m \u001b[0;34m[\u001b[0m\u001b[0;34m]\u001b[0m\u001b[0;34m\u001b[0m\u001b[0;34m\u001b[0m\u001b[0m\n\u001b[0;32m--> 933\u001b[0;31m       \u001b[0mself\u001b[0m\u001b[0;34m.\u001b[0m\u001b[0m_initialize\u001b[0m\u001b[0;34m(\u001b[0m\u001b[0margs\u001b[0m\u001b[0;34m,\u001b[0m \u001b[0mkwds\u001b[0m\u001b[0;34m,\u001b[0m \u001b[0madd_initializers_to\u001b[0m\u001b[0;34m=\u001b[0m\u001b[0minitializers\u001b[0m\u001b[0;34m)\u001b[0m\u001b[0;34m\u001b[0m\u001b[0;34m\u001b[0m\u001b[0m\n\u001b[0m\u001b[1;32m    934\u001b[0m     \u001b[0;32mfinally\u001b[0m\u001b[0;34m:\u001b[0m\u001b[0;34m\u001b[0m\u001b[0;34m\u001b[0m\u001b[0m\n\u001b[1;32m    935\u001b[0m       \u001b[0;31m# At this point we know that the initialization is complete (or less\u001b[0m\u001b[0;34m\u001b[0m\u001b[0;34m\u001b[0m\u001b[0;34m\u001b[0m\u001b[0m\n",
            "\u001b[0;32m/usr/local/lib/python3.7/dist-packages/tensorflow/python/eager/def_function.py\u001b[0m in \u001b[0;36m_initialize\u001b[0;34m(self, args, kwds, add_initializers_to)\u001b[0m\n\u001b[1;32m    762\u001b[0m     self._concrete_stateful_fn = (\n\u001b[1;32m    763\u001b[0m         self._stateful_fn._get_concrete_function_internal_garbage_collected(  # pylint: disable=protected-access\n\u001b[0;32m--> 764\u001b[0;31m             *args, **kwds))\n\u001b[0m\u001b[1;32m    765\u001b[0m \u001b[0;34m\u001b[0m\u001b[0m\n\u001b[1;32m    766\u001b[0m     \u001b[0;32mdef\u001b[0m \u001b[0minvalid_creator_scope\u001b[0m\u001b[0;34m(\u001b[0m\u001b[0;34m*\u001b[0m\u001b[0munused_args\u001b[0m\u001b[0;34m,\u001b[0m \u001b[0;34m**\u001b[0m\u001b[0munused_kwds\u001b[0m\u001b[0;34m)\u001b[0m\u001b[0;34m:\u001b[0m\u001b[0;34m\u001b[0m\u001b[0;34m\u001b[0m\u001b[0m\n",
            "\u001b[0;32m/usr/local/lib/python3.7/dist-packages/tensorflow/python/eager/function.py\u001b[0m in \u001b[0;36m_get_concrete_function_internal_garbage_collected\u001b[0;34m(self, *args, **kwargs)\u001b[0m\n\u001b[1;32m   3048\u001b[0m       \u001b[0margs\u001b[0m\u001b[0;34m,\u001b[0m \u001b[0mkwargs\u001b[0m \u001b[0;34m=\u001b[0m \u001b[0;32mNone\u001b[0m\u001b[0;34m,\u001b[0m \u001b[0;32mNone\u001b[0m\u001b[0;34m\u001b[0m\u001b[0;34m\u001b[0m\u001b[0m\n\u001b[1;32m   3049\u001b[0m     \u001b[0;32mwith\u001b[0m \u001b[0mself\u001b[0m\u001b[0;34m.\u001b[0m\u001b[0m_lock\u001b[0m\u001b[0;34m:\u001b[0m\u001b[0;34m\u001b[0m\u001b[0;34m\u001b[0m\u001b[0m\n\u001b[0;32m-> 3050\u001b[0;31m       \u001b[0mgraph_function\u001b[0m\u001b[0;34m,\u001b[0m \u001b[0m_\u001b[0m \u001b[0;34m=\u001b[0m \u001b[0mself\u001b[0m\u001b[0;34m.\u001b[0m\u001b[0m_maybe_define_function\u001b[0m\u001b[0;34m(\u001b[0m\u001b[0margs\u001b[0m\u001b[0;34m,\u001b[0m \u001b[0mkwargs\u001b[0m\u001b[0;34m)\u001b[0m\u001b[0;34m\u001b[0m\u001b[0;34m\u001b[0m\u001b[0m\n\u001b[0m\u001b[1;32m   3051\u001b[0m     \u001b[0;32mreturn\u001b[0m \u001b[0mgraph_function\u001b[0m\u001b[0;34m\u001b[0m\u001b[0;34m\u001b[0m\u001b[0m\n\u001b[1;32m   3052\u001b[0m \u001b[0;34m\u001b[0m\u001b[0m\n",
            "\u001b[0;32m/usr/local/lib/python3.7/dist-packages/tensorflow/python/eager/function.py\u001b[0m in \u001b[0;36m_maybe_define_function\u001b[0;34m(self, args, kwargs)\u001b[0m\n\u001b[1;32m   3442\u001b[0m \u001b[0;34m\u001b[0m\u001b[0m\n\u001b[1;32m   3443\u001b[0m           \u001b[0mself\u001b[0m\u001b[0;34m.\u001b[0m\u001b[0m_function_cache\u001b[0m\u001b[0;34m.\u001b[0m\u001b[0mmissed\u001b[0m\u001b[0;34m.\u001b[0m\u001b[0madd\u001b[0m\u001b[0;34m(\u001b[0m\u001b[0mcall_context_key\u001b[0m\u001b[0;34m)\u001b[0m\u001b[0;34m\u001b[0m\u001b[0;34m\u001b[0m\u001b[0m\n\u001b[0;32m-> 3444\u001b[0;31m           \u001b[0mgraph_function\u001b[0m \u001b[0;34m=\u001b[0m \u001b[0mself\u001b[0m\u001b[0;34m.\u001b[0m\u001b[0m_create_graph_function\u001b[0m\u001b[0;34m(\u001b[0m\u001b[0margs\u001b[0m\u001b[0;34m,\u001b[0m \u001b[0mkwargs\u001b[0m\u001b[0;34m)\u001b[0m\u001b[0;34m\u001b[0m\u001b[0;34m\u001b[0m\u001b[0m\n\u001b[0m\u001b[1;32m   3445\u001b[0m           \u001b[0mself\u001b[0m\u001b[0;34m.\u001b[0m\u001b[0m_function_cache\u001b[0m\u001b[0;34m.\u001b[0m\u001b[0mprimary\u001b[0m\u001b[0;34m[\u001b[0m\u001b[0mcache_key\u001b[0m\u001b[0;34m]\u001b[0m \u001b[0;34m=\u001b[0m \u001b[0mgraph_function\u001b[0m\u001b[0;34m\u001b[0m\u001b[0;34m\u001b[0m\u001b[0m\n\u001b[1;32m   3446\u001b[0m \u001b[0;34m\u001b[0m\u001b[0m\n",
            "\u001b[0;32m/usr/local/lib/python3.7/dist-packages/tensorflow/python/eager/function.py\u001b[0m in \u001b[0;36m_create_graph_function\u001b[0;34m(self, args, kwargs, override_flat_arg_shapes)\u001b[0m\n\u001b[1;32m   3287\u001b[0m             \u001b[0marg_names\u001b[0m\u001b[0;34m=\u001b[0m\u001b[0marg_names\u001b[0m\u001b[0;34m,\u001b[0m\u001b[0;34m\u001b[0m\u001b[0;34m\u001b[0m\u001b[0m\n\u001b[1;32m   3288\u001b[0m             \u001b[0moverride_flat_arg_shapes\u001b[0m\u001b[0;34m=\u001b[0m\u001b[0moverride_flat_arg_shapes\u001b[0m\u001b[0;34m,\u001b[0m\u001b[0;34m\u001b[0m\u001b[0;34m\u001b[0m\u001b[0m\n\u001b[0;32m-> 3289\u001b[0;31m             capture_by_value=self._capture_by_value),\n\u001b[0m\u001b[1;32m   3290\u001b[0m         \u001b[0mself\u001b[0m\u001b[0;34m.\u001b[0m\u001b[0m_function_attributes\u001b[0m\u001b[0;34m,\u001b[0m\u001b[0;34m\u001b[0m\u001b[0;34m\u001b[0m\u001b[0m\n\u001b[1;32m   3291\u001b[0m         \u001b[0mfunction_spec\u001b[0m\u001b[0;34m=\u001b[0m\u001b[0mself\u001b[0m\u001b[0;34m.\u001b[0m\u001b[0mfunction_spec\u001b[0m\u001b[0;34m,\u001b[0m\u001b[0;34m\u001b[0m\u001b[0;34m\u001b[0m\u001b[0m\n",
            "\u001b[0;32m/usr/local/lib/python3.7/dist-packages/tensorflow/python/framework/func_graph.py\u001b[0m in \u001b[0;36mfunc_graph_from_py_func\u001b[0;34m(name, python_func, args, kwargs, signature, func_graph, autograph, autograph_options, add_control_dependencies, arg_names, op_return_value, collections, capture_by_value, override_flat_arg_shapes)\u001b[0m\n\u001b[1;32m    997\u001b[0m         \u001b[0m_\u001b[0m\u001b[0;34m,\u001b[0m \u001b[0moriginal_func\u001b[0m \u001b[0;34m=\u001b[0m \u001b[0mtf_decorator\u001b[0m\u001b[0;34m.\u001b[0m\u001b[0munwrap\u001b[0m\u001b[0;34m(\u001b[0m\u001b[0mpython_func\u001b[0m\u001b[0;34m)\u001b[0m\u001b[0;34m\u001b[0m\u001b[0;34m\u001b[0m\u001b[0m\n\u001b[1;32m    998\u001b[0m \u001b[0;34m\u001b[0m\u001b[0m\n\u001b[0;32m--> 999\u001b[0;31m       \u001b[0mfunc_outputs\u001b[0m \u001b[0;34m=\u001b[0m \u001b[0mpython_func\u001b[0m\u001b[0;34m(\u001b[0m\u001b[0;34m*\u001b[0m\u001b[0mfunc_args\u001b[0m\u001b[0;34m,\u001b[0m \u001b[0;34m**\u001b[0m\u001b[0mfunc_kwargs\u001b[0m\u001b[0;34m)\u001b[0m\u001b[0;34m\u001b[0m\u001b[0;34m\u001b[0m\u001b[0m\n\u001b[0m\u001b[1;32m   1000\u001b[0m \u001b[0;34m\u001b[0m\u001b[0m\n\u001b[1;32m   1001\u001b[0m       \u001b[0;31m# invariant: `func_outputs` contains only Tensors, CompositeTensors,\u001b[0m\u001b[0;34m\u001b[0m\u001b[0;34m\u001b[0m\u001b[0;34m\u001b[0m\u001b[0m\n",
            "\u001b[0;32m/usr/local/lib/python3.7/dist-packages/tensorflow/python/eager/def_function.py\u001b[0m in \u001b[0;36mwrapped_fn\u001b[0;34m(*args, **kwds)\u001b[0m\n\u001b[1;32m    670\u001b[0m         \u001b[0;31m# the function a weak reference to itself to avoid a reference cycle.\u001b[0m\u001b[0;34m\u001b[0m\u001b[0;34m\u001b[0m\u001b[0;34m\u001b[0m\u001b[0m\n\u001b[1;32m    671\u001b[0m         \u001b[0;32mwith\u001b[0m \u001b[0mOptionalXlaContext\u001b[0m\u001b[0;34m(\u001b[0m\u001b[0mcompile_with_xla\u001b[0m\u001b[0;34m)\u001b[0m\u001b[0;34m:\u001b[0m\u001b[0;34m\u001b[0m\u001b[0;34m\u001b[0m\u001b[0m\n\u001b[0;32m--> 672\u001b[0;31m           \u001b[0mout\u001b[0m \u001b[0;34m=\u001b[0m \u001b[0mweak_wrapped_fn\u001b[0m\u001b[0;34m(\u001b[0m\u001b[0;34m)\u001b[0m\u001b[0;34m.\u001b[0m\u001b[0m__wrapped__\u001b[0m\u001b[0;34m(\u001b[0m\u001b[0;34m*\u001b[0m\u001b[0margs\u001b[0m\u001b[0;34m,\u001b[0m \u001b[0;34m**\u001b[0m\u001b[0mkwds\u001b[0m\u001b[0;34m)\u001b[0m\u001b[0;34m\u001b[0m\u001b[0;34m\u001b[0m\u001b[0m\n\u001b[0m\u001b[1;32m    673\u001b[0m         \u001b[0;32mreturn\u001b[0m \u001b[0mout\u001b[0m\u001b[0;34m\u001b[0m\u001b[0;34m\u001b[0m\u001b[0m\n\u001b[1;32m    674\u001b[0m \u001b[0;34m\u001b[0m\u001b[0m\n",
            "\u001b[0;32m/usr/local/lib/python3.7/dist-packages/tensorflow/python/framework/func_graph.py\u001b[0m in \u001b[0;36mwrapper\u001b[0;34m(*args, **kwargs)\u001b[0m\n\u001b[1;32m    984\u001b[0m           \u001b[0;32mexcept\u001b[0m \u001b[0mException\u001b[0m \u001b[0;32mas\u001b[0m \u001b[0me\u001b[0m\u001b[0;34m:\u001b[0m  \u001b[0;31m# pylint:disable=broad-except\u001b[0m\u001b[0;34m\u001b[0m\u001b[0;34m\u001b[0m\u001b[0m\n\u001b[1;32m    985\u001b[0m             \u001b[0;32mif\u001b[0m \u001b[0mhasattr\u001b[0m\u001b[0;34m(\u001b[0m\u001b[0me\u001b[0m\u001b[0;34m,\u001b[0m \u001b[0;34m\"ag_error_metadata\"\u001b[0m\u001b[0;34m)\u001b[0m\u001b[0;34m:\u001b[0m\u001b[0;34m\u001b[0m\u001b[0;34m\u001b[0m\u001b[0m\n\u001b[0;32m--> 986\u001b[0;31m               \u001b[0;32mraise\u001b[0m \u001b[0me\u001b[0m\u001b[0;34m.\u001b[0m\u001b[0mag_error_metadata\u001b[0m\u001b[0;34m.\u001b[0m\u001b[0mto_exception\u001b[0m\u001b[0;34m(\u001b[0m\u001b[0me\u001b[0m\u001b[0;34m)\u001b[0m\u001b[0;34m\u001b[0m\u001b[0;34m\u001b[0m\u001b[0m\n\u001b[0m\u001b[1;32m    987\u001b[0m             \u001b[0;32melse\u001b[0m\u001b[0;34m:\u001b[0m\u001b[0;34m\u001b[0m\u001b[0;34m\u001b[0m\u001b[0m\n\u001b[1;32m    988\u001b[0m               \u001b[0;32mraise\u001b[0m\u001b[0;34m\u001b[0m\u001b[0;34m\u001b[0m\u001b[0m\n",
            "\u001b[0;31mValueError\u001b[0m: in user code:\n\n    /usr/local/lib/python3.7/dist-packages/tensorflow/python/keras/engine/training.py:1569 predict_function  *\n        return step_function(self, iterator)\n    /usr/local/lib/python3.7/dist-packages/tensorflow/python/keras/engine/training.py:1559 step_function  **\n        outputs = model.distribute_strategy.run(run_step, args=(data,))\n    /usr/local/lib/python3.7/dist-packages/tensorflow/python/distribute/distribute_lib.py:1285 run\n        return self._extended.call_for_each_replica(fn, args=args, kwargs=kwargs)\n    /usr/local/lib/python3.7/dist-packages/tensorflow/python/distribute/distribute_lib.py:2833 call_for_each_replica\n        return self._call_for_each_replica(fn, args, kwargs)\n    /usr/local/lib/python3.7/dist-packages/tensorflow/python/distribute/distribute_lib.py:3608 _call_for_each_replica\n        return fn(*args, **kwargs)\n    /usr/local/lib/python3.7/dist-packages/tensorflow/python/keras/engine/training.py:1552 run_step  **\n        outputs = model.predict_step(data)\n    /usr/local/lib/python3.7/dist-packages/tensorflow/python/keras/engine/training.py:1525 predict_step\n        return self(x, training=False)\n    /usr/local/lib/python3.7/dist-packages/tensorflow/python/keras/engine/base_layer.py:1013 __call__\n        input_spec.assert_input_compatibility(self.input_spec, inputs, self.name)\n    /usr/local/lib/python3.7/dist-packages/tensorflow/python/keras/engine/input_spec.py:270 assert_input_compatibility\n        ', found shape=' + display_shape(x.shape))\n\n    ValueError: Input 0 is incompatible with layer sequential_1: expected shape=(None, None, 60), found shape=(None, 60, 3)\n"
          ]
        }
      ]
    },
    {
      "cell_type": "code",
      "metadata": {
        "colab": {
          "base_uri": "https://localhost:8080/"
        },
        "id": "4SU-HaWDZLeE",
        "outputId": "ca4eedc3-aba5-4b52-8217-c6165f5e2944"
      },
      "source": [
        "predictions.shape"
      ],
      "execution_count": null,
      "outputs": [
        {
          "output_type": "execute_result",
          "data": {
            "text/plain": [
              "(82, 1)"
            ]
          },
          "metadata": {
            "tags": []
          },
          "execution_count": 46
        }
      ]
    },
    {
      "cell_type": "markdown",
      "metadata": {
        "id": "cNIfSIm_Ea6P"
      },
      "source": [
        "This array of predictions is scaled, and therefore does not clearly represent real-world pricing information in a way that is understandeable. We first need to \"un-scale\" the predictions."
      ]
    },
    {
      "cell_type": "code",
      "metadata": {
        "id": "K0NPz6GqErrq",
        "colab": {
          "base_uri": "https://localhost:8080/",
          "height": 279
        },
        "outputId": "d9c84925-1613-45b4-f75a-1d86089bb3a4"
      },
      "source": [
        "unscaled_predictions = scaler.inverse_transform(predictions)"
      ],
      "execution_count": null,
      "outputs": [
        {
          "output_type": "error",
          "ename": "ValueError",
          "evalue": "ignored",
          "traceback": [
            "\u001b[0;31m---------------------------------------------------------------------------\u001b[0m",
            "\u001b[0;31mValueError\u001b[0m                                Traceback (most recent call last)",
            "\u001b[0;32m<ipython-input-43-7541cbd3785c>\u001b[0m in \u001b[0;36m<module>\u001b[0;34m()\u001b[0m\n\u001b[0;32m----> 1\u001b[0;31m \u001b[0munscaled_predictions\u001b[0m \u001b[0;34m=\u001b[0m \u001b[0mscaler\u001b[0m\u001b[0;34m.\u001b[0m\u001b[0minverse_transform\u001b[0m\u001b[0;34m(\u001b[0m\u001b[0mpredictions\u001b[0m\u001b[0;34m)\u001b[0m\u001b[0;34m\u001b[0m\u001b[0;34m\u001b[0m\u001b[0m\n\u001b[0m",
            "\u001b[0;32m/usr/local/lib/python3.7/dist-packages/sklearn/preprocessing/_data.py\u001b[0m in \u001b[0;36minverse_transform\u001b[0;34m(self, X)\u001b[0m\n\u001b[1;32m    434\u001b[0m                         force_all_finite=\"allow-nan\")\n\u001b[1;32m    435\u001b[0m \u001b[0;34m\u001b[0m\u001b[0m\n\u001b[0;32m--> 436\u001b[0;31m         \u001b[0mX\u001b[0m \u001b[0;34m-=\u001b[0m \u001b[0mself\u001b[0m\u001b[0;34m.\u001b[0m\u001b[0mmin_\u001b[0m\u001b[0;34m\u001b[0m\u001b[0;34m\u001b[0m\u001b[0m\n\u001b[0m\u001b[1;32m    437\u001b[0m         \u001b[0mX\u001b[0m \u001b[0;34m/=\u001b[0m \u001b[0mself\u001b[0m\u001b[0;34m.\u001b[0m\u001b[0mscale_\u001b[0m\u001b[0;34m\u001b[0m\u001b[0;34m\u001b[0m\u001b[0m\n\u001b[1;32m    438\u001b[0m         \u001b[0;32mreturn\u001b[0m \u001b[0mX\u001b[0m\u001b[0;34m\u001b[0m\u001b[0;34m\u001b[0m\u001b[0m\n",
            "\u001b[0;31mValueError\u001b[0m: non-broadcastable output operand with shape (82,1) doesn't match the broadcast shape (82,3)"
          ]
        }
      ]
    },
    {
      "cell_type": "markdown",
      "metadata": {
        "id": "b0KRyukkE4do"
      },
      "source": [
        "---\n",
        "### Evaluate predictive performance"
      ]
    },
    {
      "cell_type": "code",
      "metadata": {
        "colab": {
          "base_uri": "https://localhost:8080/",
          "height": 404
        },
        "id": "7j1Skh5YE9Jt",
        "outputId": "8175c6ce-a834-4445-bcaf-0eeb4749db3a"
      },
      "source": [
        "close = scaled_test[:, 1]\n",
        "plt.figure(figsize=(15,9))\n",
        "plt.plot(predictions, color='black', label='Predictions')\n",
        "plt.plot(close, color='green', label='Actual')\n",
        "plt.legend()\n",
        "plt.title('Actual and Predicted closing price JUBLFOOD 01/03/2021 - 30/06/2021')\n",
        "plt.ylabel('Closing Price')\n",
        "plt.show()"
      ],
      "execution_count": null,
      "outputs": [
        {
          "output_type": "display_data",
          "data": {
            "image/png": "[encoded data removed]",
            "text/plain": [
              "<Figure size 1080x648 with 1 Axes>"
            ]
          },
          "metadata": {
            "tags": [],
            "needs_background": "light"
          }
        }
      ]
    }
  ]
}